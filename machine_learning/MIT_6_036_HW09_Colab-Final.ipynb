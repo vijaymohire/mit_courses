{
  "nbformat": 4,
  "nbformat_minor": 0,
  "metadata": {
    "colab": {
      "provenance": []
    },
    "kernelspec": {
      "name": "python3",
      "display_name": "Python 3"
    }
  },
  "cells": [
    {
      "cell_type": "markdown",
      "metadata": {
        "id": "wCZ5V-cO65Yr"
      },
      "source": [
        "#MIT 6.036 Spring 2019: Homework 9#\n",
        "\n",
        "This colab notebook provides code and a framework for question 1 and 5 of the [the homework](https://openlearninglibrary.mit.edu/courses/course-v1:MITx+6.036+1T2019/courseware/Week9/week9_homework).  You can work out your solutions here, then submit your results back on the homework page when ready.\n"
      ]
    },
    {
      "cell_type": "markdown",
      "metadata": {
        "id": "oqYqLxGp7hZZ"
      },
      "source": [
        "## Setup"
      ]
    },
    {
      "cell_type": "markdown",
      "metadata": {
        "id": "NaNYfsS87tUi"
      },
      "source": [
        "First, download the code distribution for this homework that contains test cases and helper functions.\n",
        "\n",
        "Run the next code block to download and import the code for this lab."
      ]
    },
    {
      "cell_type": "code",
      "metadata": {
        "id": "c7CRuXxj7ubB",
        "colab": {
          "base_uri": "https://localhost:8080/"
        },
        "outputId": "6ffd376b-7f3f-4e0a-bb44-8eb28ad5973f"
      },
      "source": [
        "!rm -rf code_for_hw9*\n",
        "#!wget --quiet https://introml_oll.odl.mit.edu/cat-soop/6.036/static/homework/hw09/code_for_hw9.zip\n",
        "!wget --quiet https://introml_oll.odl.mit.edu/cat-soop/_static/6.036/homework/hw09/code_for_hw9.zip\n",
        "\n",
        "!unzip code_for_hw9.zip\n",
        "!mv code_for_hw9/* .\n",
        "\n",
        "from dist import *\n",
        "from sm import *\n",
        "from util import *\n",
        "from mdp import *\n",
        "\n",
        "import mdp\n",
        "import numpy as np"
      ],
      "execution_count": 1,
      "outputs": [
        {
          "output_type": "stream",
          "name": "stdout",
          "text": [
            "Archive:  code_for_hw9.zip\n",
            "   creating: code_for_hw9/\n",
            "  inflating: code_for_hw9/util.py    \n",
            "   creating: __MACOSX/\n",
            "   creating: __MACOSX/code_for_hw9/\n",
            "  inflating: __MACOSX/code_for_hw9/._util.py  \n",
            "  inflating: code_for_hw9/sm.py      \n",
            "  inflating: __MACOSX/code_for_hw9/._sm.py  \n",
            "  inflating: code_for_hw9/mdp.py     \n",
            "  inflating: __MACOSX/code_for_hw9/._mdp.py  \n",
            "  inflating: code_for_hw9/tests.py   \n",
            "  inflating: __MACOSX/code_for_hw9/._tests.py  \n",
            "  inflating: code_for_hw9/dist.py    \n",
            "  inflating: __MACOSX/code_for_hw9/._dist.py  \n",
            "  inflating: __MACOSX/._code_for_hw9  \n"
          ]
        }
      ]
    },
    {
      "cell_type": "markdown",
      "metadata": {
        "id": "uhGY4b888N52"
      },
      "source": [
        "## 1) State Machines\n",
        "\n",
        "We will implement state machines as sub-classes of the `SM` class, which specifies the `start_state`, `transition_fn` and `output_fn`.\n",
        "\n",
        "```\n",
        "class SM:\n",
        "    start_state = None  # default start state\n",
        "    def transition_fn(self, s, i):\n",
        "        '''s:       the current state\n",
        "           i:       the given input\n",
        "           returns: the next state'''\n",
        "        raise NotImplementedError\n",
        "    def output_fn(self, s):\n",
        "        '''s:       the current state\n",
        "           returns: the corresponding output'''\n",
        "        raise NotImplementedError\n",
        "```\n",
        "\n",
        "An example of a sub-class is the `Accumulator` state machine, which adds up (accumulates) its input and outputs the sum. Convince yourself that the implementation works as expected before moving on.\n",
        "\n",
        "```\n",
        "class Accumulator(SM):\n",
        "    start_state = 0\n",
        "    def transition_fn(self, s, i):\n",
        "        return s + i\n",
        "    def output_fn(self, s):\n",
        "        return s\n",
        "```"
      ]
    },
    {
      "cell_type": "markdown",
      "metadata": {
        "id": "sYF-u59B861-"
      },
      "source": [
        "### 1.1 Transduce\n",
        "Implement the `transduce` method for the `SM` class. It is given an input sequence (a list) and returns an output sequence (a list) of the outputs of the state machine on the input sequence. Assume `self.transition_fn` and `self.output_fn` are defined."
      ]
    },
    {
      "cell_type": "code",
      "metadata": {
        "id": "Xy42nJa69D3i"
      },
      "source": [
        "class SM:\n",
        "    start_state = None\n",
        "\n",
        "    def transduce(self, input_seq):\n",
        "        '''input_seq: a list of inputs to feed into SM\n",
        "           returns:   a list of outputs of SM'''\n",
        "        pass  # Your code here\n",
        "        state = self.start_state\n",
        "        outputs = []\n",
        "        for i in input_seq:\n",
        "            state = self.transition_fn(state, i)\n",
        "            outputs.append(self.output_fn(state))\n",
        "        return outputs\n"
      ],
      "execution_count": 4,
      "outputs": []
    },
    {
      "cell_type": "markdown",
      "metadata": {
        "id": "Kzdkh0p8AGi_"
      },
      "source": [
        "Below is the `Accumulator` state machine implementation that you saw above as well as an unit test to help test your `SM` class."
      ]
    },
    {
      "cell_type": "code",
      "metadata": {
        "id": "qmRnua5p_U9j",
        "colab": {
          "base_uri": "https://localhost:8080/"
        },
        "outputId": "7597c05d-1631-4887-ae53-4e680ee47991"
      },
      "source": [
        "class Accumulator(SM):\n",
        "    start_state = 0\n",
        "\n",
        "    def transition_fn(self, s, i):\n",
        "        return s + i\n",
        "\n",
        "    def output_fn(self, s):\n",
        "        return s\n",
        "\n",
        "def test_accumulator_sm():\n",
        "    res = Accumulator().transduce([-1, 2, 3, -2, 5, 6])\n",
        "    assert(res == [-1, 1, 4, 2, 7, 13])\n",
        "    print(\"Test passed!\")\n",
        "\n",
        "# Unit test\n",
        "test_accumulator_sm()"
      ],
      "execution_count": 5,
      "outputs": [
        {
          "output_type": "stream",
          "name": "stdout",
          "text": [
            "Test passed!\n"
          ]
        }
      ]
    },
    {
      "cell_type": "markdown",
      "metadata": {
        "id": "j-QW8TSk9T1E"
      },
      "source": [
        "### 1.2 Binary Addition\n",
        "Implement a `Binary_Addition` state machine that takes in a sequence of pairs of binary digits (0,1) representing two reversed binary numbers and returns a sequence of digits representing the reversed sum. For instance, to sum two binary numbers `100` and `011`, the input sequence will be `[(0, 1), (0, 1), (1, 0)]`. You will need to define `start_state`, `transition_fn` and `output_fn`. Note that when transduced, the input sequence may need to be extended with an extra (0,0) to output the final carry."
      ]
    },
    {
      "cell_type": "code",
      "metadata": {
        "id": "JKcWyGrZ9mEj"
      },
      "source": [
        "class Binary_Addition(SM):\n",
        "    start_state = (0,0) # Change\n",
        "\n",
        "    def transition_fn(self, s, x):\n",
        "        # Your code here\n",
        "        pass\n",
        "        carry, result_bit = s\n",
        "        a, b = x\n",
        "        total = a + b + carry\n",
        "        new_result_bit = total % 2\n",
        "        new_carry = total // 2\n",
        "        return (new_carry, new_result_bit)\n",
        "\n",
        "    def output_fn(self, s):\n",
        "        # Your code here\n",
        "        pass\n",
        "        return s[1]"
      ],
      "execution_count": 6,
      "outputs": []
    },
    {
      "cell_type": "code",
      "metadata": {
        "id": "5hvOZXkcA0Au",
        "colab": {
          "base_uri": "https://localhost:8080/"
        },
        "outputId": "08727d39-f10c-4c6f-9c7f-936de0879627"
      },
      "source": [
        "def test_binary_addition_sm():\n",
        "    res = Binary_Addition().transduce([(1, 1), (1, 0), (0, 0)])\n",
        "    assert(res == [0, 0, 1])\n",
        "    print(\"Test passed!\")\n",
        "\n",
        "# Unit test\n",
        "test_binary_addition_sm()"
      ],
      "execution_count": 7,
      "outputs": [
        {
          "output_type": "stream",
          "name": "stdout",
          "text": [
            "Test passed!\n"
          ]
        }
      ]
    },
    {
      "cell_type": "markdown",
      "metadata": {
        "id": "vtIAZJN79s0h"
      },
      "source": [
        "### 1.3 Reverser\n",
        "Implement a state machine that reverses a sequence. The input is a list of the form:\n",
        "\n",
        "```\n",
        " sequence1 + ['end'] + sequence2\n",
        " ```\n",
        "\n",
        "`+` refers to concatenation. `sequence1` is a list of strings, the `'end'` string indicates termination, and `sequence2` is arbitrary. The machine reverses `sequence1`: for each entry in the `sequence1`, the machine outputs `None`. For the `'end'` input and each entry in the second sequence, an item from the reversed `sequence1` is output, or `None` if no characters remain."
      ]
    },
    {
      "cell_type": "code",
      "metadata": {
        "id": "VtsUESbg9wAS"
      },
      "source": [
        "class Reverser(SM):\n",
        "    start_state = ([], 'input')  # Initial state: (symbols, mode)\n",
        "\n",
        "    def transition_fn(self, s, x):\n",
        "        symbols, mode = s\n",
        "\n",
        "        if mode == 'input':\n",
        "            if x == 'end':\n",
        "                # Switch to 'output' mode when 'end' is encountered\n",
        "                return symbols, 'output'\n",
        "            else:\n",
        "                # Collect items in 'input' mode\n",
        "                symbols.append(x)\n",
        "                return symbols, mode\n",
        "        elif mode == 'output':\n",
        "            # Output items in reverse order in 'output' mode\n",
        "            if symbols:\n",
        "                # Remove the last item from the list for output\n",
        "                return symbols[:-1], mode\n",
        "            else:\n",
        "                # Return the same state when no more items to output\n",
        "                return symbols, mode\n",
        "\n",
        "    def output_fn(self, s):\n",
        "        symbols, mode = s\n",
        "        if mode == 'output' and symbols:\n",
        "            # Output the last item in the list\n",
        "            return symbols[-1]\n",
        "        else:\n",
        "            # Output None when in 'input' mode or no items left to output\n",
        "            return None\n"
      ],
      "execution_count": 8,
      "outputs": []
    },
    {
      "cell_type": "code",
      "source": [
        "def test_reverser_sm():\n",
        "    res = Reverser().transduce(['foo', ' ', 'bar'] + ['end'] + list(range(5)))\n",
        "    assert(res == [None, None, None, 'bar', ' ', 'foo', None, None, None])\n",
        "    print(\"Test passed!\")\n",
        "\n",
        "# Unit test\n",
        "test_reverser_sm()"
      ],
      "metadata": {
        "colab": {
          "base_uri": "https://localhost:8080/"
        },
        "id": "UmD30bxAi5Ji",
        "outputId": "b0912a37-9085-4e2d-aa56-5282f20a91af"
      },
      "execution_count": 9,
      "outputs": [
        {
          "output_type": "stream",
          "name": "stdout",
          "text": [
            "Test passed!\n"
          ]
        }
      ]
    },
    {
      "cell_type": "markdown",
      "metadata": {
        "id": "hmewFWqx_4ep"
      },
      "source": [
        "### 1.4 RNN\n",
        "An RNN has a transition function and an output function, each of which is defined in terms of weight matrices, offset vectors and activation functions, analogously to standard neural networks.\n",
        "\n",
        "* The inputs $x$ are $l\\times1$ vectors\n",
        "* The states $s$ are $m\\times1$ vectors\n",
        "* The outputs $y$ are $n\\times1$ vectors\n",
        "\n",
        "The behavior is defined as follows:\n",
        "$$\\begin{align*} s_{t} & = f_1(W^{ss} s_{{t-1}} + W^{sx} x_{t} + W^{ss}_0) \\\\ y_{t} & = f_2(W^o s_{t} + W^o_0) \\end{align*}$$\n",
        "\n",
        "where $f_1$ and $f_2$ are two activation functions, such as linear, softmax or tanh.\n",
        "\n",
        "\n",
        "Note that each input `i` below has dimension `l x 1`. Implement the corresponding state machine, where the weights are given in `__init__`. Make sure to set an appropriate `start_state`."
      ]
    },
    {
      "cell_type": "code",
      "source": [
        "import numpy as np\n",
        "\n",
        "class RNN(SM):\n",
        "    def __init__(self, Wsx, Wss, Wo, Wss_0, Wo_0, f1, f2):\n",
        "        self.Wsx = Wsx\n",
        "        self.Wss = Wss\n",
        "        self.Wo = Wo\n",
        "        self.Wss_0 = Wss_0\n",
        "        self.Wo_0 = Wo_0\n",
        "        self.f1 = f1\n",
        "        self.f2 = f2\n",
        "        self.start_state = np.zeros((Wss.shape[0], 1))  # Initial state: zeros\n",
        "\n",
        "    def transition_fn(self, s, x):\n",
        "        st_minus_1 = s\n",
        "        xt = np.array(x).reshape(-1, 1)  # Ensure x is a column vector\n",
        "        # Compute the new state using matrix multiplication and activation function\n",
        "        st = self.f1(np.dot(self.Wss, st_minus_1) + np.dot(self.Wsx, xt) + self.Wss_0)\n",
        "        return st\n",
        "\n",
        "    def output_fn(self, s):\n",
        "        st = s\n",
        "        # Compute the output using matrix multiplication and activation function\n",
        "        yt = self.f2(np.dot(self.Wo, st) + self.Wo_0)\n",
        "        return yt\n",
        "\n",
        "# Example activation functions\n",
        "def tanh(x):\n",
        "    return np.tanh(x)\n",
        "\n",
        "def softmax(x):\n",
        "    e_x = np.exp(x - np.max(x))\n",
        "    return e_x / e_x.sum(axis=0)\n"
      ],
      "metadata": {
        "id": "-wJ4bK2uo91m"
      },
      "execution_count": 10,
      "outputs": []
    },
    {
      "cell_type": "code",
      "metadata": {
        "id": "DcckX5R1JWII",
        "colab": {
          "base_uri": "https://localhost:8080/"
        },
        "outputId": "6ee53729-5b55-4be5-8f90-37bf35e14173"
      },
      "source": [
        "import numpy as np\n",
        "\n",
        "def softmax(z):\n",
        "    v = np.exp(z - np.max(z))  # Prevent overflow by subtracting max\n",
        "    return v / np.sum(v, axis=0, keepdims=True)\n",
        "\n",
        "def test_rnn():\n",
        "    Wsx1 = np.array([[0.1],\n",
        "                     [0.3],\n",
        "                     [0.5]])\n",
        "    Wss1 = np.array([[0.1, 0.2, 0.3],\n",
        "                     [0.4, 0.5, 0.6],\n",
        "                     [0.7, 0.8, 0.9]])\n",
        "    Wo1 = np.array([[0.1, 0.2, 0.3],\n",
        "                    [0.4, 0.5, 0.6]])\n",
        "    Wss1_0 = np.array([[0.01],\n",
        "                       [0.02],\n",
        "                       [0.03]])\n",
        "    Wo1_0 = np.array([[0.1],\n",
        "                      [0.2]])\n",
        "    in1 = [np.array([[0.1]]),\n",
        "           np.array([[0.3]]),\n",
        "           np.array([[0.5]])]\n",
        "\n",
        "    # Create an instance of RNN\n",
        "    #from rnn_module import RNN  # Import RNN from the module where it's defined\n",
        "    rnn = RNN(Wsx1, Wss1, Wo1, Wss1_0, Wo1_0, np.tanh, softmax)\n",
        "\n",
        "    expected = np.array([[[0.4638293846951024], [0.5361706153048975]],\n",
        "                        [[0.4333239107898491], [0.566676089210151]],\n",
        "                        [[0.3821688606165438], [0.6178311393834561]]])\n",
        "\n",
        "\n",
        "    # Run the test\n",
        "    result = rnn.transduce(in1)\n",
        "    assert(np.allclose(expected, result))\n",
        "    print(\"Test passed!\")\n",
        "\n",
        "# Unit test\n",
        "test_rnn()\n"
      ],
      "execution_count": 12,
      "outputs": [
        {
          "output_type": "stream",
          "name": "stdout",
          "text": [
            "Test passed!\n"
          ]
        }
      ]
    },
    {
      "cell_type": "markdown",
      "metadata": {
        "id": "1gRiDImvBrTF"
      },
      "source": [
        "### 1.5 Accumulator Sign RNN\n",
        "Enter the parameter matrices and vectors for an instance of the `RNN` class such that the output is `1` if the cumulative sum of the inputs is positive, `-1` if the cumulative sum is negative and `0` if otherwise. Make sure that you scale the outputs so that the output activation values are very close to `1`, `0` and `-1`. Note that both the inputs and outputs are `1 x 1`.\n",
        "\n",
        "Hint: `np.tanh` may be useful. Remember to convert your Python lists to `np.array`."
      ]
    },
    {
      "cell_type": "code",
      "metadata": {
        "id": "PhH9pv3GBvam",
        "colab": {
          "base_uri": "https://localhost:8080/"
        },
        "outputId": "50242e56-22c6-49ed-b6ec-f46413beb117"
      },
      "source": [
        "import numpy as np\n",
        "\n",
        "# Define the parameter matrices and vectors\n",
        "Wsx = np.array([[1]])    # Input-to-State Weight: Adds the input to the state\n",
        "Wss = np.array([[1]])    # State-to-State Weight: Identity matrix (no change to the state)\n",
        "Wo = np.array([[1]])     # State-to-Output Weight: Scales the state to the output\n",
        "Wss_0 = np.array([[0]])  # Offset for state transition: Zero (no offset)\n",
        "Wo_0 = np.array([[0]])   # Offset for output transition: Zero (no offset)\n",
        "\n",
        "# Define the activation functions\n",
        "f1 = lambda x: x            # Identity function for the state transition\n",
        "f2 = lambda x: np.sign(x)   # Mapping function to get -1, 0, or 1 from tanh outputs\n",
        "\n",
        "# Create an instance of the RNN with the defined parameters\n",
        "acc_sign = RNN(Wsx, Wss, Wo, Wss_0, Wo_0, f1, f2)\n",
        "\n",
        "# Example usage\n",
        "inputs = [-1, -2, 2, 3, -3, 1]  # Example input sequence\n",
        "\n",
        "# Process the input sequence\n",
        "result = acc_sign.transduce(inputs)\n",
        "\n",
        "# Print the result\n",
        "print([x.tolist() for x in result])  # Print the result to match expected output\n"
      ],
      "execution_count": 13,
      "outputs": [
        {
          "output_type": "stream",
          "name": "stdout",
          "text": [
            "[[[-1.0]], [[-1.0]], [[-1.0]], [[1.0]], [[-1.0]], [[0.0]]]\n"
          ]
        }
      ]
    },
    {
      "cell_type": "code",
      "metadata": {
        "id": "78ug9-PLJk82",
        "colab": {
          "base_uri": "https://localhost:8080/"
        },
        "outputId": "84145553-d5f2-49d3-dff1-6face19c9272"
      },
      "source": [
        "def test_acc_sign_rnn(acc_sign_rnn):\n",
        "    res = acc_sign_rnn.transduce([-1, -2, 2, 3, -3, 1])\n",
        "    expected = np.array([[[-1.0]], [[-1.0]], [[-1.0]], [[1.0]], [[-1.0]], [[0.0]]])\n",
        "    assert(np.allclose(expected, res))\n",
        "    print(\"Test passed!\")\n",
        "\n",
        "# Unit test\n",
        "test_acc_sign_rnn(acc_sign)"
      ],
      "execution_count": 14,
      "outputs": [
        {
          "output_type": "stream",
          "name": "stdout",
          "text": [
            "Test passed!\n"
          ]
        }
      ]
    },
    {
      "cell_type": "markdown",
      "metadata": {
        "id": "J01wlpQRCKyo"
      },
      "source": [
        "### 1.6 Autoregression RNN\n",
        "\n",
        "Enter the parameter matrices and vectors for an instance of the `RNN` class such that it implements the following autoregressive model:\n",
        "$$y_t=y_{t-1} - 2y_{t-2} + 3y_{t-3}$$\n",
        "when $x_t = y_{t-1}$. Note that both the inputs and outputs are `1 x 1`.\n"
      ]
    },
    {
      "cell_type": "code",
      "metadata": {
        "id": "C744ijBCCOm5"
      },
      "source": [
        "Wsx =    np.array([[1, 0, 0]]).T\n",
        "Wss =    np.array([[0, 0, 0],\n",
        "                   [1, 0, 0],\n",
        "                   [0, 1, 0]])\n",
        "Wo =     np.array([[1, -2, 3]])\n",
        "Wss_0 =  np.array([[0, 0, 0]]).T\n",
        "Wo_0 =   np.array([[0]])\n",
        "f1 =     lambda x: x\n",
        "f2 =     lambda x: x\n",
        "auto = RNN(Wsx, Wss, Wo, Wss_0, Wo_0, f1, f2)"
      ],
      "execution_count": 15,
      "outputs": []
    },
    {
      "cell_type": "code",
      "metadata": {
        "id": "4RrDCow1J-M8",
        "colab": {
          "base_uri": "https://localhost:8080/"
        },
        "outputId": "e99a125a-e4a7-4045-fce5-f51bfdbae606"
      },
      "source": [
        "def test_auto_rnn(auto_rnn):\n",
        "    res = auto_rnn.transduce([np.array([[x]]) for x in range(-2,5)])\n",
        "    expected = np.array([[[-2.0]], [[3.0]], [[-4.0]], [[-2.0]], [[0.0]], [[2.0]], [[4.0]]])\n",
        "    assert(np.allclose(expected, res))\n",
        "    print(\"Test passed!\")\n",
        "\n",
        "# Unit test\n",
        "test_auto_rnn(auto)"
      ],
      "execution_count": 16,
      "outputs": [
        {
          "output_type": "stream",
          "name": "stdout",
          "text": [
            "Test passed!\n"
          ]
        }
      ]
    },
    {
      "cell_type": "markdown",
      "metadata": {
        "id": "fa8rXc0qDvkh"
      },
      "source": [
        "## 5) MDP Implementations\n",
        "\n",
        "We'll be using a couple of simple classes to represent MDPs and probability distributions.\n",
        "\n",
        "###5.1 Working with MDPs\n",
        "\n",
        "Recall that given a $Q_\\pi$ for any policy $\\pi$, then $V_\\pi(s)$ = $\\max_a Q_\\pi(s, a)$.\n",
        "\n",
        "1. Write the `value` method, which takes a $Q$ function (an instance of `TabularQ`) and a state and returns the value `V` of an action that maximizes $Q$ function stored in `q`.\n",
        "\n"
      ]
    },
    {
      "cell_type": "code",
      "metadata": {
        "id": "i9bNukNug53m"
      },
      "source": [
        "def value(q, s):\n",
        "    \"\"\" Return Q*(s,a) based on current Q\n",
        "\n",
        "    >>> q = TabularQ([0,1,2,3],['b','c'])\n",
        "    >>> q.set(0, 'b', 5)\n",
        "    >>> q.set(0, 'c', 10)\n",
        "    >>> q_star = value(q,0)\n",
        "    >>> q_star\n",
        "    10\n",
        "    \"\"\"\n",
        "    pass\n",
        "    q_star = None\n",
        "    for a in q.actions:\n",
        "        if q_star is None:\n",
        "            q_star = q.q[(s,a)]\n",
        "        elif q.q[(s,a)] > q_star:\n",
        "            q_star = q.q[(s,a)]\n",
        "    return q_star"
      ],
      "execution_count": 17,
      "outputs": []
    },
    {
      "cell_type": "code",
      "metadata": {
        "id": "aUaRY8RtOQv0",
        "colab": {
          "base_uri": "https://localhost:8080/"
        },
        "outputId": "90710dca-92ae-4176-991d-697d6d81a235"
      },
      "source": [
        "def test_value():\n",
        "    q = TabularQ([0,1,2,3], ['b','c'])\n",
        "    q.set(0, 'b', 5)\n",
        "    q.set(0, 'c', 10)\n",
        "    assert(value(q, 0) == 10)\n",
        "    print(\"Test passed!\")\n",
        "\n",
        "test_value()"
      ],
      "execution_count": 18,
      "outputs": [
        {
          "output_type": "stream",
          "name": "stdout",
          "text": [
            "Test passed!\n"
          ]
        }
      ]
    },
    {
      "cell_type": "markdown",
      "metadata": {
        "id": "xAkLsRdMhj5U"
      },
      "source": [
        "2. Write the `greedy` method, which takes a $Q$ function (an instance of `TabularQ`) and a state and returns the action `a` determined by the policy that acts greedily with respect to the current value of `q`."
      ]
    },
    {
      "cell_type": "code",
      "metadata": {
        "id": "o-0-YCiVhrq6"
      },
      "source": [
        "def greedy(q, s):\n",
        "    \"\"\" Return pi*(s) based on a greedy strategy.\n",
        "\n",
        "    >>> q = TabularQ([0,1,2,3],['b','c'])\n",
        "    >>> q.set(0, 'b', 5)\n",
        "    >>> q.set(0, 'c', 10)\n",
        "    >>> q.set(1, 'b', 2)\n",
        "    >>> greedy(q, 0)\n",
        "    'c'\n",
        "    >>> greedy(q, 1)\n",
        "    'b'\n",
        "    \"\"\"\n",
        "    return argmax(q.actions, lambda a: q.get(s, a))\n"
      ],
      "execution_count": 19,
      "outputs": []
    },
    {
      "cell_type": "code",
      "metadata": {
        "id": "X5SlyiDuOb4n",
        "colab": {
          "base_uri": "https://localhost:8080/"
        },
        "outputId": "abc32263-4a98-4566-cee2-920152a94c97"
      },
      "source": [
        "def test_greedy():\n",
        "    q = TabularQ([0, 1, 2, 3],['b', 'c'])\n",
        "    q.set(0, 'b', 5)\n",
        "    q.set(0, 'c', 10)\n",
        "    q.set(1, 'b', 2)\n",
        "    assert(greedy(q, 0) == 'c')\n",
        "    assert(greedy(q, 1) == 'b')\n",
        "    print(\"Test passed!\")\n",
        "\n",
        "test_greedy()"
      ],
      "execution_count": 20,
      "outputs": [
        {
          "output_type": "stream",
          "name": "stdout",
          "text": [
            "Test passed!\n"
          ]
        }
      ]
    },
    {
      "cell_type": "markdown",
      "metadata": {
        "id": "EM4maWSahr-F"
      },
      "source": [
        "3. Write the `epsilon_greedy` method, which takes a state `s` and a parameter `epsilon`, and returns an action. With probability `1 - epsilon` it should select the greedy action and with probability `epsilon` it should select an action uniformly from the set of possible actions.\n",
        "\n",
        "    - You should use `random.random()` to generate a random number to test againts eps.\n",
        "    - You should use the `draw` method of `uniform_dist` to generate a random action.\n",
        "    - You can use the `greedy` function defined earlier."
      ]
    },
    {
      "cell_type": "code",
      "metadata": {
        "id": "bTNz9DmwiEpJ"
      },
      "source": [
        "def epsilon_greedy(q, s, eps = 0.5):\n",
        "    \"\"\" Returns an action.\n",
        "\n",
        "    >>> q = TabularQ([0,1,2,3],['b','c'])\n",
        "    >>> q.set(0, 'b', 5)\n",
        "    >>> q.set(0, 'c', 10)\n",
        "    >>> q.set(1, 'b', 2)\n",
        "    >>> eps = 0.\n",
        "    >>> epsilon_greedy(q, 0, eps) #greedy\n",
        "    'c'\n",
        "    >>> epsilon_greedy(q, 1, eps) #greedy\n",
        "    'b'\n",
        "    \"\"\"\n",
        "    action = greedy(q, s)\n",
        "    if random.random() < eps:  # True with prob eps, random action\n",
        "        # Your code here\n",
        "        return uniform_dist(q.actions).draw()\n",
        "    else:\n",
        "        # Your code here\n",
        "        return action\n"
      ],
      "execution_count": 21,
      "outputs": []
    },
    {
      "cell_type": "code",
      "metadata": {
        "id": "jXjStECQOqiR",
        "colab": {
          "base_uri": "https://localhost:8080/"
        },
        "outputId": "5b85d8d7-cf52-4942-ca33-ddae91a90314"
      },
      "source": [
        "def test_epsilon_greedy():\n",
        "    q = TabularQ([0, 1, 2, 3],['b', 'c'])\n",
        "    q.set(0, 'b', 5)\n",
        "    q.set(0, 'c', 10)\n",
        "    q.set(1, 'b', 2)\n",
        "    eps = 0.0\n",
        "    assert(epsilon_greedy(q, 0, eps) == 'c')\n",
        "    assert(epsilon_greedy(q, 1, eps) == 'b')\n",
        "    print(\"Test passed!\")\n",
        "\n",
        "test_epsilon_greedy()"
      ],
      "execution_count": 22,
      "outputs": [
        {
          "output_type": "stream",
          "name": "stdout",
          "text": [
            "Test passed!\n"
          ]
        }
      ]
    },
    {
      "cell_type": "markdown",
      "metadata": {
        "id": "D0FimoqLiJQ_"
      },
      "source": [
        "### 5.2 Implement Q-Value Iteration\n",
        "Provide the definition of the `value_iteration` function. It takes an MDP instance and a `TabularQ` instance. It should terminate when\n",
        "\n",
        "$$\\max_{(s, a)}\\left|Q_t(s, a) - Q_{t-1}(s, a)\\right| < \\epsilon$$\n",
        "\n",
        "that is, the biggest difference between the value functions on successive iterations is less than input parameter `eps`. This function should return the final `TabularQ` instance. It should do no more that `max_iters` iterations.\n",
        "\n",
        "* Make sure to copy the Q function between iterations, e.g. `new_q = q.copy()`.\n",
        "* The `q` parameter contains the initialization of the Q function.\n",
        "* The `value` function is already defined."
      ]
    },
    {
      "cell_type": "code",
      "metadata": {
        "id": "WvvczSHijES5"
      },
      "source": [
        "def value_iteration(mdp, q, eps = 0.01, max_iters=1000):\n",
        "    # Your code here\n",
        "    pass\n",
        "    for i in range(max_iters):\n",
        "        max_value = 0\n",
        "        max_a, max_s = None,None\n",
        "        new_q = q.copy()\n",
        "        for pairs in q.q:\n",
        "            s,a = pairs[0], pairs[1]\n",
        "            v = mdp.reward_fn(s,a)\n",
        "            v += mdp.discount_factor * mdp.transition_model(s,a).expectation(lambda s: value(q,s))\n",
        "            new_q.set(s,a,v)\n",
        "            if v>max_value:\n",
        "                max_value = v\n",
        "                max_a,max_s = a,s\n",
        "        if new_q.q[(max_s,max_a)] - q.q[(max_s,max_a)]<eps:\n",
        "            return new_q\n",
        "        q = new_q.copy()"
      ],
      "execution_count": 23,
      "outputs": []
    },
    {
      "cell_type": "markdown",
      "metadata": {
        "id": "KBYHRzz-_Q_-"
      },
      "source": [
        "Below is the implementation of the \"tiny\" MDP detailed in Problem 2 and Problem 5.3. We will be using it to test `value_iteration`."
      ]
    },
    {
      "cell_type": "code",
      "metadata": {
        "id": "pRO8Zf47_Qm0",
        "colab": {
          "base_uri": "https://localhost:8080/"
        },
        "outputId": "be56bef7-083b-45af-d3e6-abd2a65d608c"
      },
      "source": [
        "def tiny_reward(s, a):\n",
        "    # Reward function\n",
        "    if s == 1: return 1\n",
        "    elif s == 3: return 2\n",
        "    else: return 0\n",
        "\n",
        "def tiny_transition(s, a):\n",
        "    # Transition function\n",
        "    if s == 0:\n",
        "        if a == 'b':\n",
        "            return DDist({1 : 0.9, 2 : 0.1})\n",
        "        else:\n",
        "            return DDist({1 : 0.1, 2 : 0.9})\n",
        "    elif s == 1:\n",
        "        return DDist({1 : 0.1, 0 : 0.9})\n",
        "    elif s == 2:\n",
        "        return DDist({2 : 0.1, 3 : 0.9})\n",
        "    elif s == 3:\n",
        "        return DDist({3 : 0.1, 0 : 0.9})\n",
        "\n",
        "def test_value_iteration():\n",
        "    tiny = MDP([0, 1, 2, 3], ['b', 'c'], tiny_transition, tiny_reward, 0.9)\n",
        "    q = TabularQ(tiny.states, tiny.actions)\n",
        "    qvi = value_iteration(tiny, q, eps=0.1, max_iters=100)\n",
        "    expected = dict([((2, 'b'), 5.962924188028282),\n",
        "                     ((1, 'c'), 5.6957634856549095),\n",
        "                     ((1, 'b'), 5.6957634856549095),\n",
        "                     ((0, 'b'), 5.072814297918393),\n",
        "                     ((0, 'c'), 5.262109602844769),\n",
        "                     ((3, 'b'), 6.794664584556008),\n",
        "                     ((3, 'c'), 6.794664584556008),\n",
        "                     ((2, 'c'), 5.962924188028282)])\n",
        "    for k in qvi.q:\n",
        "        print(\"k=%s, expected=%s, got=%s\" % (k, expected[k], qvi.q[k]))\n",
        "        assert(abs(qvi.q[k] - expected[k]) < 1.0e-5)\n",
        "    print(\"Test passed!\")\n",
        "\n",
        "test_value_iteration()"
      ],
      "execution_count": 24,
      "outputs": [
        {
          "output_type": "stream",
          "name": "stdout",
          "text": [
            "k=(0, 'b'), expected=5.072814297918393, got=5.072814297918393\n",
            "k=(0, 'c'), expected=5.262109602844769, got=5.262109602844769\n",
            "k=(1, 'b'), expected=5.6957634856549095, got=5.6957634856549095\n",
            "k=(1, 'c'), expected=5.6957634856549095, got=5.6957634856549095\n",
            "k=(2, 'b'), expected=5.962924188028282, got=5.962924188028282\n",
            "k=(2, 'c'), expected=5.962924188028282, got=5.962924188028282\n",
            "k=(3, 'b'), expected=6.794664584556008, got=6.794664584556008\n",
            "k=(3, 'c'), expected=6.794664584556008, got=6.794664584556008\n",
            "Test passed!\n"
          ]
        }
      ]
    },
    {
      "cell_type": "markdown",
      "metadata": {
        "id": "mpxPhBqijE6e"
      },
      "source": [
        "### 5.3 Receding-horizon control and online search\n",
        "Write a procedure `q_em(mdp, s, a, h)` that computes the horizon-h Q value for state `s` and action `a` by using the definition of the finite-horizon Q function in the notes (but including a discount factor).\n",
        "\n",
        "This can be written as a relatively simple recursive procedure with a base case (what is the Q value when horizon is 0?) and a recursive case that computes the horizon `h` values assuming we can (recursively) get horizon `h-1` values."
      ]
    },
    {
      "cell_type": "code",
      "metadata": {
        "id": "M5qsQ-vVjco9"
      },
      "source": [
        "def q_em(mdp, s, a, h):\n",
        "    # Your code here\n",
        "    pass\n",
        "    if h==0:\n",
        "        return 0\n",
        "    else:\n",
        "        return mdp.reward_fn(s,a) + mdp.discount_factor*mdp.transition_model(s,a).expectation(lambda s:q_em(mdp, s, a, h-1))"
      ],
      "execution_count": 25,
      "outputs": []
    },
    {
      "cell_type": "markdown",
      "metadata": {
        "id": "7pgEI65qLKKQ"
      },
      "source": [
        "We will be using the \"tiny\" MDP again to test `q_em`."
      ]
    },
    {
      "cell_type": "code",
      "metadata": {
        "id": "9i3X0Q_v-3Vo",
        "colab": {
          "base_uri": "https://localhost:8080/"
        },
        "outputId": "29e3ba75-ac51-4680-c2ab-1dd495bafc44"
      },
      "source": [
        "def test_q_em():\n",
        "    tiny = MDP([0, 1, 2, 3], ['b', 'c'], tiny_transition, tiny_reward, 0.9)\n",
        "    assert(np.allclose([q_em(tiny, 0, 'b', 1)], [0.0]))\n",
        "    assert(np.allclose([q_em(tiny, 0, 'b', 2)], [0.81]))\n",
        "    assert(np.allclose([q_em(tiny, 0, 'b', 3)], [1.0287000000000002]))\n",
        "    assert(np.allclose([q_em(tiny, 0, 'c', 3)], [1.4103]))\n",
        "    assert(np.allclose([q_em(tiny, 2, 'b', 3)], [1.9116000000000002]))\n",
        "    print(\"Tests passed!\")\n",
        "\n",
        "test_q_em()"
      ],
      "execution_count": 26,
      "outputs": [
        {
          "output_type": "stream",
          "name": "stdout",
          "text": [
            "Tests passed!\n"
          ]
        }
      ]
    }
  ]
}