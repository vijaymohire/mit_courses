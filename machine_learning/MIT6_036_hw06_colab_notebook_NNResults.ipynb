{
  "nbformat": 4,
  "nbformat_minor": 0,
  "metadata": {
    "colab": {
      "provenance": []
    },
    "kernelspec": {
      "name": "python3",
      "display_name": "Python 3"
    }
  },
  "cells": [
    {
      "metadata": {
        "id": "1vjtYChCxpJo"
      },
      "cell_type": "markdown",
      "source": [
        "# MIT 6.036 Spring 2019: Homework 6\n",
        "\n",
        "This homework does not include provided Python code. Instead, we encourage you to write your own code to help you answer some of these problems, and/or test and debug the code components we do ask for. All of the problems should be simple enough that hand calculation should be possible, but it may be convenient to write some short programs to explore the neural networks, particularly for ***problem 3.***\n"
      ]
    },
    {
      "metadata": {
        "id": "Q0278eUVx91Z"
      },
      "cell_type": "code",
      "source": [
        "import numpy as np\n",
        "\n",
        "def SM(z):\n",
        "    # Compute the softmax of vector z\n",
        "    exp_z = np.exp(z)\n",
        "    return exp_z / np.sum(exp_z)"
      ],
      "execution_count": 1,
      "outputs": []
    },
    {
      "metadata": {
        "id": "nhKmop0MBh9R"
      },
      "cell_type": "markdown",
      "source": [
        " **Problem 2A**"
      ]
    },
    {
      "metadata": {
        "id": "g0093Y5sBitt",
        "colab": {
          "base_uri": "https://localhost:8080/"
        },
        "outputId": "bab64ddb-c83b-4ede-c0c1-6214c0c64b2b"
      },
      "cell_type": "code",
      "source": [
        "z = np.array([[-1, 0, 1]]).T\n",
        "# Apply the softmax function\n",
        "a = SM(z)\n",
        "\n",
        "# Print the resulting probability distribution\n",
        "print(a)\n"
      ],
      "execution_count": 2,
      "outputs": [
        {
          "output_type": "stream",
          "name": "stdout",
          "text": [
            "[[0.09003057]\n",
            " [0.24472847]\n",
            " [0.66524096]]\n"
          ]
        }
      ]
    },
    {
      "cell_type": "markdown",
      "source": [
        "Problem 2B"
      ],
      "metadata": {
        "id": "zqmVqZzGnm-1"
      }
    },
    {
      "cell_type": "code",
      "source": [
        "import numpy as np\n",
        "\n",
        "def nll(a, y):\n",
        "    # Compute NLL directly without clipping\n",
        "    return -np.sum(y * np.log(a) + (1 - y) * np.log(1 - a))\n",
        "\n",
        "# Given arrays\n",
        "a = np.array([[0.3], [0.5], [0.2]])  # (3, 1)\n",
        "y = np.array([[0], [0], [1]])        # (3, 1)\n",
        "\n",
        "# Compute and print NLL\n",
        "nll_value = nll(a, y)\n",
        "print(nll_value)\n",
        "\n",
        "# Print result with natural log value\n",
        "print(f\"NLL: {nll_value}\")\n",
        "print(f\"-log(0.2) = {np.log(1 / 0.2)}\")\n"
      ],
      "metadata": {
        "colab": {
          "base_uri": "https://localhost:8080/"
        },
        "id": "Oesg5qW-xg3c",
        "outputId": "093e3eca-e845-44e6-a1b4-1b084ca8d351"
      },
      "execution_count": 3,
      "outputs": [
        {
          "output_type": "stream",
          "name": "stdout",
          "text": [
            "2.6592600369327783\n",
            "NLL: 2.6592600369327783\n",
            "-log(0.2) = 1.6094379124341003\n"
          ]
        }
      ]
    },
    {
      "metadata": {
        "id": "6nefgHcxHgLe"
      },
      "cell_type": "markdown",
      "source": [
        "**Problem 3**"
      ]
    },
    {
      "metadata": {
        "id": "hFMHmf8NHgY5"
      },
      "cell_type": "code",
      "source": [
        "# layer 1 weights\n",
        "w_1 = np.array([[1, 0, -1, 0], [0, 1, 0, -1]])\n",
        "w_1_bias = np.array([[-1, -1, -1, -1]]).T\n",
        "# layer 2 weights\n",
        "w_2 = np.array([[1, -1], [1, -1], [1, -1], [1, -1]])\n",
        "w_2_bias = np.array([[0, 2]]).T\n",
        "\n",
        "# your code here"
      ],
      "execution_count": 4,
      "outputs": []
    },
    {
      "cell_type": "code",
      "source": [
        "import numpy as np\n",
        "\n",
        "# Define the input vector\n",
        "x = np.array([3, 14])\n",
        "\n",
        "# Define the weights for the first layer (including the bias)\n",
        "W1 = np.array([[1, 0, -1, 0],\n",
        "               [0, 1, 0, -1]])\n",
        "bias1 = np.array([-1, -1, -1, -1])\n",
        "\n",
        "# Compute the pre-activation (z1^1, z2^1, z3^1, z4^1)\n",
        "z1 = np.dot(x, W1) + bias1\n",
        "\n",
        "# Apply the ReLU activation function (f1(z) = max(z, 0))\n",
        "a1 = np.maximum(z1, 0)\n",
        "\n",
        "# Print the outputs of the hidden units\n",
        "print(a1.tolist())\n"
      ],
      "metadata": {
        "colab": {
          "base_uri": "https://localhost:8080/"
        },
        "id": "fAb71hCIqGG2",
        "outputId": "7097cb85-ce59-4f4b-ad01-9db480a8053d"
      },
      "execution_count": 5,
      "outputs": [
        {
          "output_type": "stream",
          "name": "stdout",
          "text": [
            "[2, 13, 0, 0]\n"
          ]
        }
      ]
    },
    {
      "cell_type": "markdown",
      "source": [
        "**Computes the final output (a1^2,a2^2)of the network**"
      ],
      "metadata": {
        "id": "P8kIPBmsrWq7"
      }
    },
    {
      "cell_type": "code",
      "source": [
        "import numpy as np\n",
        "\n",
        "# Layer 1 weights and biases\n",
        "w_1 = np.array([[1, 0, -1, 0], [0, 1, 0, -1]])\n",
        "w_1_bias = np.array([[-1, -1, -1, -1]]).T\n",
        "\n",
        "# Layer 2 weights and biases\n",
        "w_2 = np.array([[1, -1], [1, -1], [1, -1], [1, -1]])\n",
        "w_2_bias = np.array([[0, 2]]).T\n",
        "\n",
        "# Define the input vector\n",
        "x = np.array([3, 14]).reshape(-1, 1)\n",
        "\n",
        "# Compute the pre-activation (z1^1, z2^1, z3^1, z4^1) for layer 1\n",
        "z1 = np.dot(w_1.T, x) + w_1_bias\n",
        "\n",
        "# Apply the ReLU activation function (f1(z) = max(z, 0)) for layer 1\n",
        "a1 = np.maximum(z1, 0)\n",
        "\n",
        "# Compute the pre-activation for layer 2 (z1^2, z2^2)\n",
        "z2 = np.dot(w_2.T, a1) + w_2_bias\n",
        "\n",
        "# Compute the softmax activation for the output layer (a1^2, a2^2)\n",
        "exp_z2 = np.exp(z2)\n",
        "a2 = exp_z2 / np.sum(exp_z2)\n",
        "\n",
        "# Print the final output of the network\n",
        "final_output = a2.flatten().tolist()\n",
        "print(final_output)\n"
      ],
      "metadata": {
        "colab": {
          "base_uri": "https://localhost:8080/"
        },
        "id": "gZnHTeNmrSQ2",
        "outputId": "063b88fa-cf4b-451f-ea57-4a0a42566110"
      },
      "execution_count": 6,
      "outputs": [
        {
          "output_type": "stream",
          "name": "stdout",
          "text": [
            "[0.9999999999993086, 6.914400106935422e-13]\n"
          ]
        }
      ]
    },
    {
      "cell_type": "markdown",
      "source": [
        "**Plot the diagram for decision boundary**"
      ],
      "metadata": {
        "id": "pSsZB1TktGXi"
      }
    },
    {
      "cell_type": "code",
      "source": [
        "import numpy as np\n",
        "import matplotlib.pyplot as plt\n",
        "\n",
        "# Define the decision boundary equations\n",
        "def decision_boundary_1(x1):\n",
        "    return (1/1) * (x1 - 1)\n",
        "\n",
        "def decision_boundary_2(x1):\n",
        "    return -1 * (x1 + 1)\n",
        "\n",
        "def decision_boundary_3(x1):\n",
        "    return (-1/1) * (x1 + 1)\n",
        "\n",
        "def decision_boundary_4(x1):\n",
        "    return 1 * (x1 + 1)\n",
        "\n",
        "# Generate values for x1\n",
        "x1_vals = np.linspace(-5, 5, 400)\n",
        "\n",
        "# Plot decision boundaries\n",
        "plt.figure(figsize=(8, 8))\n",
        "\n",
        "plt.plot(x1_vals, decision_boundary_1(x1_vals), label=r'$z_1^1 = 0$')\n",
        "plt.plot(x1_vals, decision_boundary_2(x1_vals), label=r'$z_2^1 = 0$')\n",
        "plt.plot(x1_vals, decision_boundary_3(x1_vals), label=r'$z_3^1 = 0$')\n",
        "plt.plot(x1_vals, decision_boundary_4(x1_vals), label=r'$z_4^1 = 0$')\n",
        "\n",
        "# Fill regions\n",
        "plt.fill_between(x1_vals, decision_boundary_1(x1_vals), y2=-5, where=x1_vals >= 1, facecolor='lightgrey', alpha=0.5)\n",
        "plt.fill_between(x1_vals, decision_boundary_2(x1_vals), y2=5, where=x1_vals <= -1, facecolor='lightgrey', alpha=0.5)\n",
        "plt.fill_between(x1_vals, decision_boundary_3(x1_vals), y2=5, where=x1_vals <= -1, facecolor='lightgrey', alpha=0.5)\n",
        "plt.fill_between(x1_vals, decision_boundary_4(x1_vals), y2=-5, where=x1_vals >= 1, facecolor='lightgrey', alpha=0.5)\n",
        "\n",
        "# Add labels for the boundaries\n",
        "plt.text(-2, -4, '0', fontsize=14, color='black')\n",
        "plt.text(2, -4, '0', fontsize=14, color='black')\n",
        "plt.text(-2, 4, '+', fontsize=14, color='black')\n",
        "plt.text(2, 4, '+', fontsize=14, color='black')\n",
        "\n",
        "# Set plot limits\n",
        "plt.xlim([-5, 5])\n",
        "plt.ylim([-5, 5])\n",
        "\n",
        "# Label axes\n",
        "plt.xlabel(r'$x_1$')\n",
        "plt.ylabel(r'$x_2$')\n",
        "\n",
        "# Add legend\n",
        "plt.legend()\n",
        "\n",
        "# Show grid\n",
        "plt.grid(True)\n",
        "\n",
        "# Show plot\n",
        "plt.show()\n"
      ],
      "metadata": {
        "colab": {
          "base_uri": "https://localhost:8080/",
          "height": 696
        },
        "id": "NNrsmpwFtOId",
        "outputId": "59da17f9-3e51-447b-f6a6-ac70d2e1122e"
      },
      "execution_count": 7,
      "outputs": [
        {
          "output_type": "display_data",
          "data": {
            "text/plain": [
              "<Figure size 800x800 with 1 Axes>"
            ],
            "image/png": "[encoded data removed]"
          },
          "metadata": {}
        }
      ]
    },
    {
      "cell_type": "markdown",
      "source": [
        "**Prints a 2x4 matrix where each column represents a different input vector [x1,x2]^T, each of which lies on the decision boundary for the first unit**"
      ],
      "metadata": {
        "id": "buWqfNbBxJc8"
      }
    },
    {
      "cell_type": "code",
      "source": [
        "import numpy as np\n",
        "\n",
        "# Define weights and bias for the first unit\n",
        "w_1 = np.array([1])  # Only consider the non-zero weight\n",
        "bias_1 = -1\n",
        "\n",
        "def find_boundary_points():\n",
        "    # Since x1 must be 1 to satisfy z1^1 = 0, we can choose different values of x2\n",
        "    x2_values = [0, 2, -3, 4]\n",
        "\n",
        "    # x1 is fixed at 1 for all boundary points\n",
        "    x1_fixed = 1\n",
        "\n",
        "    # Create the matrix where x1 is fixed, and x2 varies\n",
        "    boundary_points = np.array([[x1_fixed] * 4, x2_values])\n",
        "\n",
        "    # Print the resulting matrix\n",
        "    print(boundary_points.tolist())\n",
        "\n",
        "# Call the function\n",
        "find_boundary_points()\n"
      ],
      "metadata": {
        "colab": {
          "base_uri": "https://localhost:8080/"
        },
        "id": "SFCz_HgWxbSv",
        "outputId": "e15f15b6-3388-44f4-ba05-8f45b8c4dbde"
      },
      "execution_count": 9,
      "outputs": [
        {
          "output_type": "stream",
          "name": "stdout",
          "text": [
            "[[1, 1, 1, 1], [0, 2, -3, 4]]\n"
          ]
        }
      ]
    },
    {
      "metadata": {
        "id": "5Qtv3VR2AA_m",
        "colab": {
          "base_uri": "https://localhost:8080/"
        },
        "outputId": "6e23c466-2740-4679-ce7e-3fb192b843d9"
      },
      "cell_type": "code",
      "source": [
        "import numpy as np\n",
        "\n",
        "T  = np.matrix([[0.0 , 0.1 , 0.9 , 0.0],\n",
        "[0.9 , 0.1 , 0.0 , 0.0],\n",
        "[0.0 , 0.0 , 0.1 , 0.9],\n",
        "[0.9 , 0.0 , 0.0 , 0.1]])\n",
        "g = 0.9\n",
        "r = np.matrix([0, 1., 0., 2.]).reshape(4, 1)\n",
        "\n",
        "print(np.linalg.solve(np.eye(4) - g * T, r))"
      ],
      "execution_count": 10,
      "outputs": [
        {
          "output_type": "stream",
          "name": "stdout",
          "text": [
            "[[6.05288295]\n",
            " [6.48663207]\n",
            " [6.7519581 ]\n",
            " [7.58553317]]\n"
          ]
        }
      ]
    },
    {
      "cell_type": "markdown",
      "source": [
        "***Boundary checks for above code ***"
      ],
      "metadata": {
        "id": "30t7_gy8zQjP"
      }
    },
    {
      "cell_type": "code",
      "source": [
        "import numpy as np\n",
        "\n",
        "# Transition matrix T (4x4)\n",
        "T = np.matrix([[0.0, 0.1, 0.9, 0.0],\n",
        "               [0.9, 0.1, 0.0, 0.0],\n",
        "               [0.0, 0.0, 0.1, 0.9],\n",
        "               [0.9, 0.0, 0.0, 0.1]])\n",
        "\n",
        "# Discount factor\n",
        "g = 0.9\n",
        "\n",
        "# Reward vector r (4x1)\n",
        "r = np.matrix([0, 1., 0., 2.]).reshape(4, 1)\n",
        "\n",
        "# Identity matrix I (4x4)\n",
        "I = np.eye(4)\n",
        "\n",
        "# Matrix to solve (I - g * T)\n",
        "A = I - g * T\n",
        "\n",
        "# Check if the matrix is invertible (optional)\n",
        "if np.linalg.det(A) != 0:\n",
        "    # Solve for the value function V\n",
        "    V = np.linalg.solve(A, r)\n",
        "    print(\"Value function V:\\n\", V)\n",
        "else:\n",
        "    print(\"Matrix (I - g * T) is singular and cannot be solved.\")\n",
        "\n",
        "# Additional: Print the transition matrix for verification\n",
        "print(\"Transition matrix T:\\n\", T)\n",
        "print(\"Matrix (I - g * T):\\n\", A)\n"
      ],
      "metadata": {
        "colab": {
          "base_uri": "https://localhost:8080/"
        },
        "id": "1c_2KCSozWNw",
        "outputId": "eee2a18a-3b61-47ce-9a24-ed9414bdda95"
      },
      "execution_count": 11,
      "outputs": [
        {
          "output_type": "stream",
          "name": "stdout",
          "text": [
            "Value function V:\n",
            " [[6.05288295]\n",
            " [6.48663207]\n",
            " [6.7519581 ]\n",
            " [7.58553317]]\n",
            "Transition matrix T:\n",
            " [[0.  0.1 0.9 0. ]\n",
            " [0.9 0.1 0.  0. ]\n",
            " [0.  0.  0.1 0.9]\n",
            " [0.9 0.  0.  0.1]]\n",
            "Matrix (I - g * T):\n",
            " [[ 1.   -0.09 -0.81  0.  ]\n",
            " [-0.81  0.91  0.    0.  ]\n",
            " [ 0.    0.    0.91 -0.81]\n",
            " [-0.81  0.    0.    0.91]]\n"
          ]
        }
      ]
    },
    {
      "cell_type": "markdown",
      "source": [
        "**Code to print a matrix where each column represents the outputs of the hidden units (f(z1^1),…,f(z4^1)) for each of the input vectors**"
      ],
      "metadata": {
        "id": "2RBg7zfj0ooU"
      }
    },
    {
      "cell_type": "code",
      "source": [
        "import numpy as np\n",
        "\n",
        "# Define the input vectors\n",
        "x1 = np.array([0.5, 0.5])\n",
        "x2 = np.array([0, 2])\n",
        "x3 = np.array([-3, 0.5])\n",
        "\n",
        "# Combine them into a matrix where each column is an input vector\n",
        "X = np.column_stack([x1, x2, x3])\n",
        "\n",
        "# Define the weights for the first layer (including the bias)\n",
        "W1 = np.array([[1, 0, -1, 0],\n",
        "               [0, 1, 0, -1]])\n",
        "bias1 = np.array([-1, -1, -1, -1])\n",
        "\n",
        "# Compute the pre-activation values z1^1, z2^1, z3^1, z4^1 for each input vector\n",
        "Z = np.dot(W1.T, X) + bias1.reshape(-1, 1)\n",
        "\n",
        "# Apply the ReLU activation function to get the hidden unit outputs\n",
        "A = np.maximum(Z, 0)\n",
        "\n",
        "# Print the matrix where each column represents the outputs of the hidden units\n",
        "print(A)\n"
      ],
      "metadata": {
        "colab": {
          "base_uri": "https://localhost:8080/"
        },
        "id": "Fyh-meBr04io",
        "outputId": "98e94d9c-79ac-414b-f3fa-4a6b55a883bb"
      },
      "execution_count": 12,
      "outputs": [
        {
          "output_type": "stream",
          "name": "stdout",
          "text": [
            "[[0. 0. 0.]\n",
            " [0. 1. 0.]\n",
            " [0. 0. 2.]\n",
            " [0. 0. 0.]]\n"
          ]
        }
      ]
    },
    {
      "cell_type": "markdown",
      "source": [
        "**Expressions**"
      ],
      "metadata": {
        "id": "a4W1Q0x320U1"
      }
    },
    {
      "cell_type": "code",
      "source": [
        "import numpy as np\n",
        "\n",
        "# Compute the softmax outputs\n",
        "a1_2 = 1 / (1 + np.exp(2))\n",
        "a2_2 = np.exp(2) / (1 + np.exp(2))\n",
        "\n",
        "print(f\"a1^2 = {a1_2}\")\n",
        "print(f\"a2^2 = {a2_2}\")\n"
      ],
      "metadata": {
        "colab": {
          "base_uri": "https://localhost:8080/"
        },
        "id": "Vmm6yokU24mD",
        "outputId": "89ac46a9-0f32-4c7e-df0c-c5ac4bababb9"
      },
      "execution_count": 13,
      "outputs": [
        {
          "output_type": "stream",
          "name": "stdout",
          "text": [
            "a1^2 = 0.11920292202211755\n",
            "a2^2 = 0.8807970779778824\n"
          ]
        }
      ]
    }
  ]
}